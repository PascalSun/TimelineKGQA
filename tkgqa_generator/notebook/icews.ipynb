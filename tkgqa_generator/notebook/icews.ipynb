{
 "cells": [
  {
   "cell_type": "code",
   "execution_count": 1,
   "id": "initial_id",
   "metadata": {
    "collapsed": true,
    "ExecuteTime": {
     "end_time": "2024-03-26T03:17:44.897708Z",
     "start_time": "2024-03-26T03:17:44.426518Z"
    }
   },
   "outputs": [],
   "source": [
    "import os\n",
    "import zipfile\n",
    "from sqlalchemy import create_engine\n",
    "\n",
    "import pandas as pd"
   ]
  },
  {
   "cell_type": "code",
   "outputs": [],
   "source": [
    "from tkgqa_generator.tkgqa_generator.constants import DATA_ICEWS_EVENTS_DATA_DIR"
   ],
   "metadata": {
    "collapsed": false,
    "ExecuteTime": {
     "end_time": "2024-03-26T03:17:44.904092Z",
     "start_time": "2024-03-26T03:17:44.899255Z"
    }
   },
   "id": "922c7ebcbc4d4073",
   "execution_count": 2
  },
  {
   "cell_type": "code",
   "outputs": [
    {
     "data": {
      "text/plain": "PosixPath('/home/pascal/PhD/TemporalLogicKGQA/tkgqa_generator/data/ICEWS/ICEWS Coded Event Data')"
     },
     "execution_count": 3,
     "metadata": {},
     "output_type": "execute_result"
    }
   ],
   "source": [
    "DATA_ICEWS_EVENTS_DATA_DIR"
   ],
   "metadata": {
    "collapsed": false,
    "ExecuteTime": {
     "end_time": "2024-03-26T03:17:44.920278Z",
     "start_time": "2024-03-26T03:17:44.905652Z"
    }
   },
   "id": "64a633bd0df88323",
   "execution_count": 3
  },
  {
   "cell_type": "code",
   "outputs": [],
   "source": [
    "# loop the folder, and unzip all the files ending with .zip\n",
    "# it will override the data if it is running twice\n",
    "for file in os.listdir(DATA_ICEWS_EVENTS_DATA_DIR):\n",
    "    if file.endswith(\".zip\"):\n",
    "        # unzip the file\n",
    "        zip_path = DATA_ICEWS_EVENTS_DATA_DIR / file\n",
    "        with zipfile.ZipFile(zip_path, 'r') as zip_ref:\n",
    "            zip_ref.extractall(DATA_ICEWS_EVENTS_DATA_DIR)"
   ],
   "metadata": {
    "collapsed": false,
    "ExecuteTime": {
     "end_time": "2024-03-26T03:18:05.082177Z",
     "start_time": "2024-03-26T03:17:44.921775Z"
    }
   },
   "id": "56b08a45aa3c7c67",
   "execution_count": 4
  },
  {
   "cell_type": "code",
   "outputs": [],
   "source": [
    "# read all .tab or .csv files into the df and check their column distribution\n",
    "# pandas read from tab, csv files\n",
    "# have done the check, all files have the consistent same column names\n",
    "combined_df = None\n",
    "for file in os.listdir(DATA_ICEWS_EVENTS_DATA_DIR):\n",
    "    if file.endswith(\".tab\") or file.endswith(\".csv\"):\n",
    "        tab_path = DATA_ICEWS_EVENTS_DATA_DIR / file\n",
    "        df = pd.read_csv(\n",
    "            tab_path, sep=\"\\t\", low_memory=False\n",
    "        )\n",
    "        if combined_df is None:\n",
    "            combined_df = df\n",
    "        else:\n",
    "            # combine df and combined_df\n",
    "            combined_df = pd.concat(\n",
    "                [combined_df, df], ignore_index=True\n",
    "            )"
   ],
   "metadata": {
    "collapsed": false,
    "ExecuteTime": {
     "end_time": "2024-03-26T03:19:13.086156Z",
     "start_time": "2024-03-26T03:18:05.083647Z"
    }
   },
   "id": "5e5ce2e86e31652c",
   "execution_count": 5
  },
  {
   "cell_type": "code",
   "outputs": [],
   "source": [
    "# combined_df.to_csv(\n",
    "#     \"ICEWS.csv\"\n",
    "# )"
   ],
   "metadata": {
    "collapsed": false,
    "ExecuteTime": {
     "end_time": "2024-03-26T03:19:13.089558Z",
     "start_time": "2024-03-26T03:19:13.087377Z"
    }
   },
   "id": "72c79f9596afc1a5",
   "execution_count": 6
  },
  {
   "cell_type": "code",
   "outputs": [
    {
     "data": {
      "text/plain": "          Event ID  Event Date                         Source Name  \\\n0         37756867  2023-03-15            Organized Crime (Brazil)   \n1         37756337  2023-03-17      Undersecretary (United States)   \n2         37756338  2023-03-17  International Atomic Energy Agency   \n3         37756289  2023-03-17                    Citizen (Israel)   \n4         37750848  2023-03-18                     Aam Aadmi Party   \n...            ...         ...                                 ...   \n18662553  37711733  2023-03-13                          Macky Sall   \n18662554  37711734  2023-03-13                          World Bank   \n18662555  37711688  2023-03-13                   Abdoulaye Bathily   \n18662556  37711625  2023-03-13                    Police (Tunisia)   \n18662557  37711624  2023-03-13                          Kaïs Saïed   \n\n                                             Source Sectors Source Country  \\\n0                               Criminals / Gangs,Dissident         Brazil   \n1                                                Government  United States   \n2         Global,Global Diplomatic IGOs,Global Energy IG...            NaN   \n3             General Population / Civilian / Social,Social         Israel   \n4         (National) Major Party,Far Left,Ideological,Pa...          India   \n...                                                     ...            ...   \n18662553  (National) Minor Party,Center Left,Elite,Execu...        Senegal   \n18662554  Global,Global Development IGOs,Global Economic...            NaN   \n18662555  (National) Minor Party,Far Left,Government,Ide...        Senegal   \n18662556                                  Government,Police        Tunisia   \n18662557              Executive,Executive Office,Government        Tunisia   \n\n                                           Event Text CAMEO Code  Intensity  \\\n0                                      Make statement         10        0.0   \n1                                      Make statement         10        0.0   \n2                                      Make statement         10        0.0   \n3                                Demonstrate or rally        141       -6.5   \n4                               Criticize or denounce        111       -2.0   \n...                                               ...        ...        ...   \n18662553                               Make statement         10        0.0   \n18662554                             Reduce relations        160       -4.0   \n18662555                    Make an appeal or request         20        3.0   \n18662556  Arrest, detain, or charge with legal action        173       -5.0   \n18662557                               Make statement         10        0.0   \n\n                          Target Name  \\\n0          Indigenous People (Brazil)   \n1                                Iran   \n2                                Iran   \n3                              Israel   \n4                    Bharatiya Janata   \n...                               ...   \n18662553                   Kaïs Saïed   \n18662554                      Tunisia   \n18662555                        Libya   \n18662556            Student (Tunisia)   \n18662557  Illegal Immigrant (Tunisia)   \n\n                                             Target Sectors Target Country  \\\n0             General Population / Civilian / Social,Social         Brazil   \n1                                                       NaN           Iran   \n2                                                       NaN           Iran   \n3                                                       NaN         Israel   \n4         (National) Major Party,Opposition Major Party ...          India   \n...                                                     ...            ...   \n18662553              Executive,Executive Office,Government        Tunisia   \n18662554                                                NaN        Tunisia   \n18662555                                                NaN          Libya   \n18662556                                   Education,Social        Tunisia   \n18662557                        Criminals / Gangs,Dissident        Tunisia   \n\n          Story ID  Sentence Number           Publisher     City District  \\\n0         57081171                2             Unknown      NaN      NaN   \n1         57079767                3  The Jerusalem Post      NaN      NaN   \n2         57079767                5  The Jerusalem Post      NaN      NaN   \n3         57079770                1  The Jerusalem Post      NaN      NaN   \n4         57068117                1     Hindustan Times    Delhi      NaN   \n...            ...              ...                 ...      ...      ...   \n18662553  56995482                1          All Africa      NaN      NaN   \n18662554  56995482                6          All Africa      NaN      NaN   \n18662555  56995483                1          All Africa  Tripoli      NaN   \n18662556  56995487                4          All Africa      NaN      NaN   \n18662557  56995487                6          All Africa      NaN      NaN   \n\n                                     Province        Country  Latitude  \\\n0                           Estado de Roraima         Brazil    1.0000   \n1                                         NaN  United States   38.8951   \n2                                         NaN           Iran   35.6944   \n3                                         NaN         Israel   31.7790   \n4         National Capital Territory of Delhi          India   28.6538   \n...                                       ...            ...       ...   \n18662553                                  NaN        Tunisia   36.8190   \n18662554                                  NaN        Tunisia   36.8190   \n18662555                  Sha`biyat Tarabulus          Libya   32.8752   \n18662556                                  NaN        Tunisia   36.8190   \n18662557                                  NaN        Tunisia   36.8190   \n\n          Longitude  \n0          -61.0000  \n1          -77.0364  \n2           51.4215  \n3           35.2253  \n4           77.2290  \n...             ...  \n18662553    10.1658  \n18662554    10.1658  \n18662555    13.1875  \n18662556    10.1658  \n18662557    10.1658  \n\n[18662558 rows x 20 columns]",
      "text/html": "<div>\n<style scoped>\n    .dataframe tbody tr th:only-of-type {\n        vertical-align: middle;\n    }\n\n    .dataframe tbody tr th {\n        vertical-align: top;\n    }\n\n    .dataframe thead th {\n        text-align: right;\n    }\n</style>\n<table border=\"1\" class=\"dataframe\">\n  <thead>\n    <tr style=\"text-align: right;\">\n      <th></th>\n      <th>Event ID</th>\n      <th>Event Date</th>\n      <th>Source Name</th>\n      <th>Source Sectors</th>\n      <th>Source Country</th>\n      <th>Event Text</th>\n      <th>CAMEO Code</th>\n      <th>Intensity</th>\n      <th>Target Name</th>\n      <th>Target Sectors</th>\n      <th>Target Country</th>\n      <th>Story ID</th>\n      <th>Sentence Number</th>\n      <th>Publisher</th>\n      <th>City</th>\n      <th>District</th>\n      <th>Province</th>\n      <th>Country</th>\n      <th>Latitude</th>\n      <th>Longitude</th>\n    </tr>\n  </thead>\n  <tbody>\n    <tr>\n      <th>0</th>\n      <td>37756867</td>\n      <td>2023-03-15</td>\n      <td>Organized Crime (Brazil)</td>\n      <td>Criminals / Gangs,Dissident</td>\n      <td>Brazil</td>\n      <td>Make statement</td>\n      <td>10</td>\n      <td>0.0</td>\n      <td>Indigenous People (Brazil)</td>\n      <td>General Population / Civilian / Social,Social</td>\n      <td>Brazil</td>\n      <td>57081171</td>\n      <td>2</td>\n      <td>Unknown</td>\n      <td>NaN</td>\n      <td>NaN</td>\n      <td>Estado de Roraima</td>\n      <td>Brazil</td>\n      <td>1.0000</td>\n      <td>-61.0000</td>\n    </tr>\n    <tr>\n      <th>1</th>\n      <td>37756337</td>\n      <td>2023-03-17</td>\n      <td>Undersecretary (United States)</td>\n      <td>Government</td>\n      <td>United States</td>\n      <td>Make statement</td>\n      <td>10</td>\n      <td>0.0</td>\n      <td>Iran</td>\n      <td>NaN</td>\n      <td>Iran</td>\n      <td>57079767</td>\n      <td>3</td>\n      <td>The Jerusalem Post</td>\n      <td>NaN</td>\n      <td>NaN</td>\n      <td>NaN</td>\n      <td>United States</td>\n      <td>38.8951</td>\n      <td>-77.0364</td>\n    </tr>\n    <tr>\n      <th>2</th>\n      <td>37756338</td>\n      <td>2023-03-17</td>\n      <td>International Atomic Energy Agency</td>\n      <td>Global,Global Diplomatic IGOs,Global Energy IG...</td>\n      <td>NaN</td>\n      <td>Make statement</td>\n      <td>10</td>\n      <td>0.0</td>\n      <td>Iran</td>\n      <td>NaN</td>\n      <td>Iran</td>\n      <td>57079767</td>\n      <td>5</td>\n      <td>The Jerusalem Post</td>\n      <td>NaN</td>\n      <td>NaN</td>\n      <td>NaN</td>\n      <td>Iran</td>\n      <td>35.6944</td>\n      <td>51.4215</td>\n    </tr>\n    <tr>\n      <th>3</th>\n      <td>37756289</td>\n      <td>2023-03-17</td>\n      <td>Citizen (Israel)</td>\n      <td>General Population / Civilian / Social,Social</td>\n      <td>Israel</td>\n      <td>Demonstrate or rally</td>\n      <td>141</td>\n      <td>-6.5</td>\n      <td>Israel</td>\n      <td>NaN</td>\n      <td>Israel</td>\n      <td>57079770</td>\n      <td>1</td>\n      <td>The Jerusalem Post</td>\n      <td>NaN</td>\n      <td>NaN</td>\n      <td>NaN</td>\n      <td>Israel</td>\n      <td>31.7790</td>\n      <td>35.2253</td>\n    </tr>\n    <tr>\n      <th>4</th>\n      <td>37750848</td>\n      <td>2023-03-18</td>\n      <td>Aam Aadmi Party</td>\n      <td>(National) Major Party,Far Left,Ideological,Pa...</td>\n      <td>India</td>\n      <td>Criticize or denounce</td>\n      <td>111</td>\n      <td>-2.0</td>\n      <td>Bharatiya Janata</td>\n      <td>(National) Major Party,Opposition Major Party ...</td>\n      <td>India</td>\n      <td>57068117</td>\n      <td>1</td>\n      <td>Hindustan Times</td>\n      <td>Delhi</td>\n      <td>NaN</td>\n      <td>National Capital Territory of Delhi</td>\n      <td>India</td>\n      <td>28.6538</td>\n      <td>77.2290</td>\n    </tr>\n    <tr>\n      <th>...</th>\n      <td>...</td>\n      <td>...</td>\n      <td>...</td>\n      <td>...</td>\n      <td>...</td>\n      <td>...</td>\n      <td>...</td>\n      <td>...</td>\n      <td>...</td>\n      <td>...</td>\n      <td>...</td>\n      <td>...</td>\n      <td>...</td>\n      <td>...</td>\n      <td>...</td>\n      <td>...</td>\n      <td>...</td>\n      <td>...</td>\n      <td>...</td>\n      <td>...</td>\n    </tr>\n    <tr>\n      <th>18662553</th>\n      <td>37711733</td>\n      <td>2023-03-13</td>\n      <td>Macky Sall</td>\n      <td>(National) Minor Party,Center Left,Elite,Execu...</td>\n      <td>Senegal</td>\n      <td>Make statement</td>\n      <td>10</td>\n      <td>0.0</td>\n      <td>Kaïs Saïed</td>\n      <td>Executive,Executive Office,Government</td>\n      <td>Tunisia</td>\n      <td>56995482</td>\n      <td>1</td>\n      <td>All Africa</td>\n      <td>NaN</td>\n      <td>NaN</td>\n      <td>NaN</td>\n      <td>Tunisia</td>\n      <td>36.8190</td>\n      <td>10.1658</td>\n    </tr>\n    <tr>\n      <th>18662554</th>\n      <td>37711734</td>\n      <td>2023-03-13</td>\n      <td>World Bank</td>\n      <td>Global,Global Development IGOs,Global Economic...</td>\n      <td>NaN</td>\n      <td>Reduce relations</td>\n      <td>160</td>\n      <td>-4.0</td>\n      <td>Tunisia</td>\n      <td>NaN</td>\n      <td>Tunisia</td>\n      <td>56995482</td>\n      <td>6</td>\n      <td>All Africa</td>\n      <td>NaN</td>\n      <td>NaN</td>\n      <td>NaN</td>\n      <td>Tunisia</td>\n      <td>36.8190</td>\n      <td>10.1658</td>\n    </tr>\n    <tr>\n      <th>18662555</th>\n      <td>37711688</td>\n      <td>2023-03-13</td>\n      <td>Abdoulaye Bathily</td>\n      <td>(National) Minor Party,Far Left,Government,Ide...</td>\n      <td>Senegal</td>\n      <td>Make an appeal or request</td>\n      <td>20</td>\n      <td>3.0</td>\n      <td>Libya</td>\n      <td>NaN</td>\n      <td>Libya</td>\n      <td>56995483</td>\n      <td>1</td>\n      <td>All Africa</td>\n      <td>Tripoli</td>\n      <td>NaN</td>\n      <td>Sha`biyat Tarabulus</td>\n      <td>Libya</td>\n      <td>32.8752</td>\n      <td>13.1875</td>\n    </tr>\n    <tr>\n      <th>18662556</th>\n      <td>37711625</td>\n      <td>2023-03-13</td>\n      <td>Police (Tunisia)</td>\n      <td>Government,Police</td>\n      <td>Tunisia</td>\n      <td>Arrest, detain, or charge with legal action</td>\n      <td>173</td>\n      <td>-5.0</td>\n      <td>Student (Tunisia)</td>\n      <td>Education,Social</td>\n      <td>Tunisia</td>\n      <td>56995487</td>\n      <td>4</td>\n      <td>All Africa</td>\n      <td>NaN</td>\n      <td>NaN</td>\n      <td>NaN</td>\n      <td>Tunisia</td>\n      <td>36.8190</td>\n      <td>10.1658</td>\n    </tr>\n    <tr>\n      <th>18662557</th>\n      <td>37711624</td>\n      <td>2023-03-13</td>\n      <td>Kaïs Saïed</td>\n      <td>Executive,Executive Office,Government</td>\n      <td>Tunisia</td>\n      <td>Make statement</td>\n      <td>10</td>\n      <td>0.0</td>\n      <td>Illegal Immigrant (Tunisia)</td>\n      <td>Criminals / Gangs,Dissident</td>\n      <td>Tunisia</td>\n      <td>56995487</td>\n      <td>6</td>\n      <td>All Africa</td>\n      <td>NaN</td>\n      <td>NaN</td>\n      <td>NaN</td>\n      <td>Tunisia</td>\n      <td>36.8190</td>\n      <td>10.1658</td>\n    </tr>\n  </tbody>\n</table>\n<p>18662558 rows × 20 columns</p>\n</div>"
     },
     "execution_count": 7,
     "metadata": {},
     "output_type": "execute_result"
    }
   ],
   "source": [
    "combined_df"
   ],
   "metadata": {
    "collapsed": false,
    "ExecuteTime": {
     "end_time": "2024-03-26T03:19:13.106775Z",
     "start_time": "2024-03-26T03:19:13.090474Z"
    }
   },
   "id": "22c08b3e4dceb2a9",
   "execution_count": 7
  },
  {
   "cell_type": "code",
   "outputs": [],
   "source": [
    "db_name = \"tkgqa\"\n",
    "db_user = \"tkgqa\"\n",
    "db_pass = \"tkgqa\"\n",
    "db_host = \"localhost\"  # or the IP address of your database server\n",
    "db_port = \"5433\"\n",
    "connection_string = f\"postgresql://{db_user}:{db_pass}@{db_host}:{db_port}/{db_name}\""
   ],
   "metadata": {
    "collapsed": false,
    "ExecuteTime": {
     "end_time": "2024-03-26T03:19:13.109948Z",
     "start_time": "2024-03-26T03:19:13.107742Z"
    }
   },
   "id": "e13db1ea680a74f9",
   "execution_count": 8
  },
  {
   "cell_type": "code",
   "outputs": [],
   "source": [
    "engine = create_engine(connection_string)"
   ],
   "metadata": {
    "collapsed": false,
    "ExecuteTime": {
     "end_time": "2024-03-26T03:19:13.163550Z",
     "start_time": "2024-03-26T03:19:13.110621Z"
    }
   },
   "id": "a8c8aa126a2a998d",
   "execution_count": 9
  },
  {
   "cell_type": "code",
   "outputs": [
    {
     "data": {
      "text/plain": "558"
     },
     "execution_count": 10,
     "metadata": {},
     "output_type": "execute_result"
    }
   ],
   "source": [
    "combined_df.to_sql(\n",
    "    \"icews\", engine, if_exists=\"append\", index=False\n",
    "    \n",
    ")"
   ],
   "metadata": {
    "collapsed": false,
    "ExecuteTime": {
     "end_time": "2024-03-26T03:36:38.488117Z",
     "start_time": "2024-03-26T03:19:13.165428Z"
    }
   },
   "id": "fa36687314c70130",
   "execution_count": 10
  }
 ],
 "metadata": {
  "kernelspec": {
   "display_name": "Python 3",
   "language": "python",
   "name": "python3"
  },
  "language_info": {
   "codemirror_mode": {
    "name": "ipython",
    "version": 2
   },
   "file_extension": ".py",
   "mimetype": "text/x-python",
   "name": "python",
   "nbconvert_exporter": "python",
   "pygments_lexer": "ipython2",
   "version": "2.7.6"
  }
 },
 "nbformat": 4,
 "nbformat_minor": 5
}
