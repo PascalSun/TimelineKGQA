{
 "cells": [
  {
   "cell_type": "code",
   "execution_count": 12,
   "id": "initial_id",
   "metadata": {
    "collapsed": true,
    "ExecuteTime": {
     "end_time": "2024-03-25T14:49:41.803908Z",
     "start_time": "2024-03-25T14:49:41.801402Z"
    }
   },
   "outputs": [],
   "source": [
    "import os\n",
    "import zipfile\n",
    "\n",
    "import pandas as pd"
   ]
  },
  {
   "cell_type": "code",
   "outputs": [],
   "source": [
    "from tkgqa_generator.tkgqa_generator.constants import DATA_ICEWS_EVENTS_DATA_DIR"
   ],
   "metadata": {
    "collapsed": false,
    "ExecuteTime": {
     "end_time": "2024-03-25T14:49:42.643286Z",
     "start_time": "2024-03-25T14:49:42.640459Z"
    }
   },
   "id": "922c7ebcbc4d4073",
   "execution_count": 13
  },
  {
   "cell_type": "code",
   "outputs": [
    {
     "data": {
      "text/plain": "PosixPath('/Users/pascal/PhD/TemporalLogicKGQA/tkgqa_generator/data/ICEWS/ICEWS Coded Event Data')"
     },
     "execution_count": 14,
     "metadata": {},
     "output_type": "execute_result"
    }
   ],
   "source": [
    "DATA_ICEWS_EVENTS_DATA_DIR"
   ],
   "metadata": {
    "collapsed": false,
    "ExecuteTime": {
     "end_time": "2024-03-25T14:49:43.176959Z",
     "start_time": "2024-03-25T14:49:43.173828Z"
    }
   },
   "id": "64a633bd0df88323",
   "execution_count": 14
  },
  {
   "cell_type": "code",
   "outputs": [],
   "source": [
    "# loop the folder, and unzip all of the files ending with .zip\n",
    "for file in os.listdir(DATA_ICEWS_EVENTS_DATA_DIR):\n",
    "    if file.endswith(\".zip\"):\n",
    "        # unzip the file\n",
    "        zip_path = DATA_ICEWS_EVENTS_DATA_DIR / file\n",
    "        with zipfile.ZipFile(zip_path, 'r') as zip_ref:\n",
    "            zip_ref.extractall(DATA_ICEWS_EVENTS_DATA_DIR)"
   ],
   "metadata": {
    "collapsed": false,
    "ExecuteTime": {
     "end_time": "2024-03-25T14:54:37.695573Z",
     "start_time": "2024-03-25T14:54:27.742114Z"
    }
   },
   "id": "56b08a45aa3c7c67",
   "execution_count": 17
  },
  {
   "cell_type": "code",
   "outputs": [],
   "source": [
    "# pandas read from zip\n",
    "df = pd.read_csv(DATA_ICEWS_EVENTS_DATA_DIR / \"20230108-icews-events.tab\", sep='\\t')"
   ],
   "metadata": {
    "collapsed": false,
    "ExecuteTime": {
     "end_time": "2024-03-25T14:38:15.264261Z",
     "start_time": "2024-03-25T14:38:15.208793Z"
    }
   },
   "id": "5e5ce2e86e31652c",
   "execution_count": 8
  },
  {
   "cell_type": "code",
   "outputs": [
    {
     "data": {
      "text/plain": "Index(['Event ID', 'Event Date', 'Source Name', 'Source Sectors',\n       'Source Country', 'Event Text', 'CAMEO Code', 'Intensity',\n       'Target Name', 'Target Sectors', 'Target Country', 'Story ID',\n       'Sentence Number', 'Publisher', 'City', 'District', 'Province',\n       'Country', 'Latitude', 'Longitude'],\n      dtype='object')"
     },
     "execution_count": 10,
     "metadata": {},
     "output_type": "execute_result"
    }
   ],
   "source": [
    "df.columns"
   ],
   "metadata": {
    "collapsed": false,
    "ExecuteTime": {
     "end_time": "2024-03-25T14:38:22.723448Z",
     "start_time": "2024-03-25T14:38:22.720233Z"
    }
   },
   "id": "d66fd4159b972fe4",
   "execution_count": 10
  },
  {
   "cell_type": "code",
   "outputs": [
    {
     "data": {
      "text/plain": "       Event ID  Event Date                            Source Name  \\\n0      37543936  2022-10-13                           Saudi Arabia   \n1      37543653  2022-10-13                           Saudi Arabia   \n2      37542178  2022-10-14                                 Israel   \n3      37542179  2022-10-14                          United States   \n4      37542131  2022-10-14                                Ukraine   \n...         ...         ...                                    ...   \n15609  37552500  2023-01-09                   Court Judge (Brazil)   \n15610  37552547  2023-01-09                                Ireland   \n15611  37552528  2023-01-09                      Activist (Brazil)   \n15612  37552602  2023-01-09  Democratic Party of Equatorial Guinea   \n15613  37552603  2023-01-09                                 France   \n\n                                          Source Sectors     Source Country  \\\n0                                                    NaN       Saudi Arabia   \n1                                                    NaN       Saudi Arabia   \n2                                                    NaN             Israel   \n3                                                    NaN      United States   \n4                                                    NaN            Ukraine   \n...                                                  ...                ...   \n15609                                Government,Judicial             Brazil   \n15610                                                NaN            Ireland   \n15611  Human Rights IGOs,Human Rights NGOs,Nongovernm...             Brazil   \n15612                     (National) Major Party,Parties  Equatorial Guinea   \n15613                                                NaN             France   \n\n                                        Event Text  CAMEO Code  Intensity  \\\n0                              Deny responsibility          16       -5.0   \n1                                Praise or endorse          51        3.4   \n2                                      Provide aid          70        7.0   \n3                             Provide economic aid          71        7.4   \n4      Arrest, detain, or charge with legal action         173       -5.0   \n...                                            ...         ...        ...   \n15609                                      Consult          40        1.0   \n15610                            Praise or endorse          51        3.4   \n15611                         Demonstrate or rally         141       -6.5   \n15612                                 Make a visit          42        1.9   \n15613                                 Host a visit          43        2.8   \n\n                                 Target Name  \\\n0                              United States   \n1                                     Russia   \n2                              United States   \n3                                     Israel   \n4                         Volodymyr Zelensky   \n...                                      ...   \n15609                         Jair Bolsonaro   \n15610                                 Brazil   \n15611                      Unspecified Actor   \n15612                                 France   \n15613  Democratic Party of Equatorial Guinea   \n\n                                    Target Sectors      Target Country  \\\n0                                              NaN       United States   \n1                                              NaN  Russian Federation   \n2                                              NaN       United States   \n3                                              NaN              Israel   \n4      Elite,Executive,Executive Office,Government             Ukraine   \n...                                            ...                 ...   \n15609  Elite,Executive,Executive Office,Government              Brazil   \n15610                                          NaN              Brazil   \n15611                                  Unspecified                 NaN   \n15612                                          NaN              France   \n15613               (National) Major Party,Parties   Equatorial Guinea   \n\n       Story ID  Sentence Number                      Publisher        City  \\\n0      56635750                4                  The Oil Daily         NaN   \n1      56635751                2                  The Oil Daily      Riyadh   \n2      56633048                5             The Jerusalem Post         NaN   \n3      56633048                6             The Jerusalem Post         NaN   \n4      56633051                2             The Jerusalem Post         NaN   \n...         ...              ...                            ...         ...   \n15609  56654472                5  ANSA - Spanish Service (BASP)  Araraquara   \n15610  56654475                4                        Unknown      Dublin   \n15611  56654476                4           Agence France-Presse         NaN   \n15612  56654487                5                     All Africa       Paris   \n15613  56654487                5                     All Africa       Paris   \n\n          District              Province        Country  Latitude  Longitude  \n0              NaN       Washington D.C.  United States   38.9171  -77.00030  \n1              NaN     Mintaqat ar Riyad   Saudi Arabia   24.6877   46.72190  \n2              NaN                   NaN  United States   38.8951  -77.03640  \n3              NaN                   NaN         Israel   31.7790   35.22530  \n4              NaN                   NaN        Ukraine   50.4547   30.52380  \n...            ...                   ...            ...       ...        ...  \n15609   Araraquara   Estado de Sao Paulo         Brazil  -21.7944  -48.17560  \n15610  Dublin City              Leinster        Ireland   53.3331   -6.24889  \n15611          NaN                   NaN          Spain   40.4165   -3.70256  \n15612        Paris  Region Ile-de-France         France   48.8534    2.34880  \n15613        Paris  Region Ile-de-France         France   48.8534    2.34880  \n\n[15614 rows x 20 columns]",
      "text/html": "<div>\n<style scoped>\n    .dataframe tbody tr th:only-of-type {\n        vertical-align: middle;\n    }\n\n    .dataframe tbody tr th {\n        vertical-align: top;\n    }\n\n    .dataframe thead th {\n        text-align: right;\n    }\n</style>\n<table border=\"1\" class=\"dataframe\">\n  <thead>\n    <tr style=\"text-align: right;\">\n      <th></th>\n      <th>Event ID</th>\n      <th>Event Date</th>\n      <th>Source Name</th>\n      <th>Source Sectors</th>\n      <th>Source Country</th>\n      <th>Event Text</th>\n      <th>CAMEO Code</th>\n      <th>Intensity</th>\n      <th>Target Name</th>\n      <th>Target Sectors</th>\n      <th>Target Country</th>\n      <th>Story ID</th>\n      <th>Sentence Number</th>\n      <th>Publisher</th>\n      <th>City</th>\n      <th>District</th>\n      <th>Province</th>\n      <th>Country</th>\n      <th>Latitude</th>\n      <th>Longitude</th>\n    </tr>\n  </thead>\n  <tbody>\n    <tr>\n      <th>0</th>\n      <td>37543936</td>\n      <td>2022-10-13</td>\n      <td>Saudi Arabia</td>\n      <td>NaN</td>\n      <td>Saudi Arabia</td>\n      <td>Deny responsibility</td>\n      <td>16</td>\n      <td>-5.0</td>\n      <td>United States</td>\n      <td>NaN</td>\n      <td>United States</td>\n      <td>56635750</td>\n      <td>4</td>\n      <td>The Oil Daily</td>\n      <td>NaN</td>\n      <td>NaN</td>\n      <td>Washington D.C.</td>\n      <td>United States</td>\n      <td>38.9171</td>\n      <td>-77.00030</td>\n    </tr>\n    <tr>\n      <th>1</th>\n      <td>37543653</td>\n      <td>2022-10-13</td>\n      <td>Saudi Arabia</td>\n      <td>NaN</td>\n      <td>Saudi Arabia</td>\n      <td>Praise or endorse</td>\n      <td>51</td>\n      <td>3.4</td>\n      <td>Russia</td>\n      <td>NaN</td>\n      <td>Russian Federation</td>\n      <td>56635751</td>\n      <td>2</td>\n      <td>The Oil Daily</td>\n      <td>Riyadh</td>\n      <td>NaN</td>\n      <td>Mintaqat ar Riyad</td>\n      <td>Saudi Arabia</td>\n      <td>24.6877</td>\n      <td>46.72190</td>\n    </tr>\n    <tr>\n      <th>2</th>\n      <td>37542178</td>\n      <td>2022-10-14</td>\n      <td>Israel</td>\n      <td>NaN</td>\n      <td>Israel</td>\n      <td>Provide aid</td>\n      <td>70</td>\n      <td>7.0</td>\n      <td>United States</td>\n      <td>NaN</td>\n      <td>United States</td>\n      <td>56633048</td>\n      <td>5</td>\n      <td>The Jerusalem Post</td>\n      <td>NaN</td>\n      <td>NaN</td>\n      <td>NaN</td>\n      <td>United States</td>\n      <td>38.8951</td>\n      <td>-77.03640</td>\n    </tr>\n    <tr>\n      <th>3</th>\n      <td>37542179</td>\n      <td>2022-10-14</td>\n      <td>United States</td>\n      <td>NaN</td>\n      <td>United States</td>\n      <td>Provide economic aid</td>\n      <td>71</td>\n      <td>7.4</td>\n      <td>Israel</td>\n      <td>NaN</td>\n      <td>Israel</td>\n      <td>56633048</td>\n      <td>6</td>\n      <td>The Jerusalem Post</td>\n      <td>NaN</td>\n      <td>NaN</td>\n      <td>NaN</td>\n      <td>Israel</td>\n      <td>31.7790</td>\n      <td>35.22530</td>\n    </tr>\n    <tr>\n      <th>4</th>\n      <td>37542131</td>\n      <td>2022-10-14</td>\n      <td>Ukraine</td>\n      <td>NaN</td>\n      <td>Ukraine</td>\n      <td>Arrest, detain, or charge with legal action</td>\n      <td>173</td>\n      <td>-5.0</td>\n      <td>Volodymyr Zelensky</td>\n      <td>Elite,Executive,Executive Office,Government</td>\n      <td>Ukraine</td>\n      <td>56633051</td>\n      <td>2</td>\n      <td>The Jerusalem Post</td>\n      <td>NaN</td>\n      <td>NaN</td>\n      <td>NaN</td>\n      <td>Ukraine</td>\n      <td>50.4547</td>\n      <td>30.52380</td>\n    </tr>\n    <tr>\n      <th>...</th>\n      <td>...</td>\n      <td>...</td>\n      <td>...</td>\n      <td>...</td>\n      <td>...</td>\n      <td>...</td>\n      <td>...</td>\n      <td>...</td>\n      <td>...</td>\n      <td>...</td>\n      <td>...</td>\n      <td>...</td>\n      <td>...</td>\n      <td>...</td>\n      <td>...</td>\n      <td>...</td>\n      <td>...</td>\n      <td>...</td>\n      <td>...</td>\n      <td>...</td>\n    </tr>\n    <tr>\n      <th>15609</th>\n      <td>37552500</td>\n      <td>2023-01-09</td>\n      <td>Court Judge (Brazil)</td>\n      <td>Government,Judicial</td>\n      <td>Brazil</td>\n      <td>Consult</td>\n      <td>40</td>\n      <td>1.0</td>\n      <td>Jair Bolsonaro</td>\n      <td>Elite,Executive,Executive Office,Government</td>\n      <td>Brazil</td>\n      <td>56654472</td>\n      <td>5</td>\n      <td>ANSA - Spanish Service (BASP)</td>\n      <td>Araraquara</td>\n      <td>Araraquara</td>\n      <td>Estado de Sao Paulo</td>\n      <td>Brazil</td>\n      <td>-21.7944</td>\n      <td>-48.17560</td>\n    </tr>\n    <tr>\n      <th>15610</th>\n      <td>37552547</td>\n      <td>2023-01-09</td>\n      <td>Ireland</td>\n      <td>NaN</td>\n      <td>Ireland</td>\n      <td>Praise or endorse</td>\n      <td>51</td>\n      <td>3.4</td>\n      <td>Brazil</td>\n      <td>NaN</td>\n      <td>Brazil</td>\n      <td>56654475</td>\n      <td>4</td>\n      <td>Unknown</td>\n      <td>Dublin</td>\n      <td>Dublin City</td>\n      <td>Leinster</td>\n      <td>Ireland</td>\n      <td>53.3331</td>\n      <td>-6.24889</td>\n    </tr>\n    <tr>\n      <th>15611</th>\n      <td>37552528</td>\n      <td>2023-01-09</td>\n      <td>Activist (Brazil)</td>\n      <td>Human Rights IGOs,Human Rights NGOs,Nongovernm...</td>\n      <td>Brazil</td>\n      <td>Demonstrate or rally</td>\n      <td>141</td>\n      <td>-6.5</td>\n      <td>Unspecified Actor</td>\n      <td>Unspecified</td>\n      <td>NaN</td>\n      <td>56654476</td>\n      <td>4</td>\n      <td>Agence France-Presse</td>\n      <td>NaN</td>\n      <td>NaN</td>\n      <td>NaN</td>\n      <td>Spain</td>\n      <td>40.4165</td>\n      <td>-3.70256</td>\n    </tr>\n    <tr>\n      <th>15612</th>\n      <td>37552602</td>\n      <td>2023-01-09</td>\n      <td>Democratic Party of Equatorial Guinea</td>\n      <td>(National) Major Party,Parties</td>\n      <td>Equatorial Guinea</td>\n      <td>Make a visit</td>\n      <td>42</td>\n      <td>1.9</td>\n      <td>France</td>\n      <td>NaN</td>\n      <td>France</td>\n      <td>56654487</td>\n      <td>5</td>\n      <td>All Africa</td>\n      <td>Paris</td>\n      <td>Paris</td>\n      <td>Region Ile-de-France</td>\n      <td>France</td>\n      <td>48.8534</td>\n      <td>2.34880</td>\n    </tr>\n    <tr>\n      <th>15613</th>\n      <td>37552603</td>\n      <td>2023-01-09</td>\n      <td>France</td>\n      <td>NaN</td>\n      <td>France</td>\n      <td>Host a visit</td>\n      <td>43</td>\n      <td>2.8</td>\n      <td>Democratic Party of Equatorial Guinea</td>\n      <td>(National) Major Party,Parties</td>\n      <td>Equatorial Guinea</td>\n      <td>56654487</td>\n      <td>5</td>\n      <td>All Africa</td>\n      <td>Paris</td>\n      <td>Paris</td>\n      <td>Region Ile-de-France</td>\n      <td>France</td>\n      <td>48.8534</td>\n      <td>2.34880</td>\n    </tr>\n  </tbody>\n</table>\n<p>15614 rows × 20 columns</p>\n</div>"
     },
     "execution_count": 11,
     "metadata": {},
     "output_type": "execute_result"
    }
   ],
   "source": [
    "df"
   ],
   "metadata": {
    "collapsed": false,
    "ExecuteTime": {
     "end_time": "2024-03-25T14:38:26.371647Z",
     "start_time": "2024-03-25T14:38:26.361795Z"
    }
   },
   "id": "2b82c831a3900012",
   "execution_count": 11
  },
  {
   "cell_type": "code",
   "outputs": [],
   "source": [],
   "metadata": {
    "collapsed": false
   },
   "id": "7c7de31a81aea211"
  }
 ],
 "metadata": {
  "kernelspec": {
   "display_name": "Python 3",
   "language": "python",
   "name": "python3"
  },
  "language_info": {
   "codemirror_mode": {
    "name": "ipython",
    "version": 2
   },
   "file_extension": ".py",
   "mimetype": "text/x-python",
   "name": "python",
   "nbconvert_exporter": "python",
   "pygments_lexer": "ipython2",
   "version": "2.7.6"
  }
 },
 "nbformat": 4,
 "nbformat_minor": 5
}
